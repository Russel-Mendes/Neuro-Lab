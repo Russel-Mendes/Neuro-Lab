{
 "cells": [
  {
   "cell_type": "markdown",
   "metadata": {},
   "source": [
    "## K-Means Clustering\n",
    "\n",
    "A popular clustering algorithim that is used by unsupervised machines. The algorithm works by choosing K clusters. The program then selects K unique points and determines the distance between the chosen point and every data point. The closest datapoint are then computed again to create an average with a variation. Each unique variation is considered a cluster. The repeats until the algorithm finds the lowest variation for the given K clusters. This notebooks seeks to practice the algorthim. Inspiration and source code can be found here [here](https://data-flair.training/blogs/k-means-clustering-tutorial/)"
   ]
  },
  {
   "cell_type": "code",
   "execution_count": 2,
   "metadata": {},
   "outputs": [],
   "source": [
    "#Imports\n",
    "import numpy as np\n",
    "import matplotlib.pyplot as plt\n",
    "from sklearn.cluster import KMeans"
   ]
  },
  {
   "cell_type": "code",
   "execution_count": 65,
   "metadata": {},
   "outputs": [],
   "source": [
    "#Creating the Data Set\n",
    "\n",
    "#4 distinct clusters\n",
    "x0 = -2 * np.random.rand(100,2)\n",
    "x1 =  2 * np.random.rand(100,2)\n",
    "x2 = -1 * np.random.rand(100,2)\n",
    "x3 =1 + 3 * np.random.rand(100,2)\n",
    "\n",
    "#offsetting\n",
    "x0 = np.array([[i[0]-5, i[1]-5] for i in x0])\n",
    "x1 = np.array([[i[0], i[1]] for i in x1])\n",
    "x2 = np.array([[i[0]-5, i[1]+5] for i in x2])\n",
    "x3 = np.array([[i[0]+3, i[1]+5] for i in x3])\n",
    "\n",
    "#x[100:200, :] = x0\n"
   ]
  },
  {
   "cell_type": "code",
   "execution_count": 66,
   "metadata": {},
   "outputs": [],
   "source": [
    "data_whole = np.zeros((400,2))\n",
    "data_whole[0:100, :] = x0\n",
    "data_whole[100:200, :] = x1\n",
    "data_whole[200:300, :] = x2\n",
    "data_whole[300:400, :] = x3"
   ]
  },
  {
   "cell_type": "code",
   "execution_count": 68,
   "metadata": {},
   "outputs": [
    {
     "data": {
      "image/png": "[encoded data removed]",
      "text/plain": [
       "<matplotlib.figure.Figure at 0x1aa43d29518>"
      ]
     },
     "metadata": {
      "needs_background": "light"
     },
     "output_type": "display_data"
    }
   ],
   "source": [
    "plt.scatter(data_whole[ : , 0], data_whole[ :, 1], s = 25, color='r')\n",
    "plt.grid()\n",
    "#Note\n",
    "#The lower left cluster is x0\n",
    "#The center right cluster is x1\n",
    "#The tight upper left cluster is x2\n",
    "#The loose upper right cluster is x3"
   ]
  },
  {
   "cell_type": "code",
   "execution_count": 71,
   "metadata": {},
   "outputs": [
    {
     "data": {
      "text/plain": [
       "array([[-5.49291593,  4.4722979 ],\n",
       "       [ 5.36259594,  7.42727203],\n",
       "       [-5.99762227, -5.96448652],\n",
       "       [ 1.04419695,  1.03092263]])"
      ]
     },
     "execution_count": 71,
     "metadata": {},
     "output_type": "execute_result"
    }
   ],
   "source": [
    "#Training and getting the clustor centers\n",
    "Kmean = KMeans(n_clusters=4)\n",
    "Kmean.fit(data_whole)\n",
    "Kmean.cluster_centers_"
   ]
  },
  {
   "cell_type": "code",
   "execution_count": 70,
   "metadata": {},
   "outputs": [
    {
     "data": {
      "text/plain": [
       "array([[-5.49291593,  4.4722979 ],\n",
       "       [ 1.04419695,  1.03092263],\n",
       "       [-5.99762227, -5.96448652],\n",
       "       [ 5.36259594,  7.42727203]])"
      ]
     },
     "execution_count": 70,
     "metadata": {},
     "output_type": "execute_result"
    }
   ],
   "source": [
    "#Show overlay between the cluster colors\n",
    "\n",
    "plt.scatter(-0.95788938, -1.04850579, s=100, color='green')\n",
    "plt.scatter(2.03078996,  2.05446538, s=100, color='green')\n",
    "plt.show()"
   ]
  },
  {
   "cell_type": "code",
   "execution_count": 72,
   "metadata": {},
   "outputs": [
    {
     "data": {
      "image/png": "[encoded data removed]",
      "text/plain": [
       "<matplotlib.figure.Figure at 0x1aa43c54b38>"
      ]
     },
     "metadata": {
      "needs_background": "light"
     },
     "output_type": "display_data"
    }
   ],
   "source": [
    "plt.scatter(data_whole[ : , 0], data_whole[ :, 1], s = 25, color='r')\n",
    "\n",
    "plt.scatter(-5.49291593,  4.4722979, s=100, color='green')\n",
    "plt.scatter(1.04419695,  1.03092263, s=100, color='blue')\n",
    "plt.scatter(-5.99762227, -5.964486529, s=100, color='black')\n",
    "plt.scatter(5.36259594,  7.42727203, s=100, color='purple')\n",
    "plt.show()\n",
    "\n",
    "#Note: \n",
    "#The green dot belongs to x0 cluster\n",
    "#The black dot belongs to x1 cluster \n",
    "#The blue dot belongs to x2 cluster\n",
    "#The purple dot belong to x3 clluster"
   ]
  },
  {
   "cell_type": "code",
   "execution_count": 140,
   "metadata": {},
   "outputs": [],
   "source": [
    "#Showing Possesion Mapping\n",
    "#Let us see to what extent does \n",
    "point_array = []\n",
    "density_factor = 10\n",
    "for x in range(-10*density_factor,10*density_factor):\n",
    "    for y in range(-10*density_factor,10*density_factor):\n",
    "        point_array.append((np.array([x,y]))/density_factor)\n",
    "\n",
    "color_point_array = []\n",
    "\n",
    "for point in point_array:\n",
    "    ans = Kmean.predict(point.reshape(1,-1))\n",
    "    color_point_array.append([point, ans.tolist()])\n"
   ]
  },
  {
   "cell_type": "code",
   "execution_count": 141,
   "metadata": {},
   "outputs": [],
   "source": [
    "color_0 = [i[0].tolist() for i in color_point_array if i[1][0] == 0 ]\n",
    "color_1 = [i[0].tolist() for i in color_point_array if i[1][0] == 1 ]\n",
    "color_2 = [i[0].tolist() for i in color_point_array if i[1][0] == 2 ]\n",
    "color_3 = [i[0].tolist() for i in color_point_array if i[1][0] == 3 ]\n",
    "\n",
    "color_0x = [i[0] for i in color_0]\n",
    "color_0y = [i[1] for i in color_0]\n",
    "color_1x = [i[0] for i in color_1]\n",
    "color_1y = [i[1] for i in color_1]\n",
    "color_2x = [i[0] for i in color_2]\n",
    "color_2y = [i[1] for i in color_2]\n",
    "color_3x = [i[0] for i in color_3]\n",
    "color_3y = [i[1] for i in color_3]"
   ]
  },
  {
   "cell_type": "code",
   "execution_count": 142,
   "metadata": {},
   "outputs": [
    {
     "data": {
      "text/plain": [
       "<matplotlib.collections.PathCollection at 0x1aa446549b0>"
      ]
     },
     "execution_count": 142,
     "metadata": {},
     "output_type": "execute_result"
    },
    {
     "data": {
      "image/png": "[encoded data removed]",
      "text/plain": [
       "<matplotlib.figure.Figure at 0x1aa44962940>"
      ]
     },
     "metadata": {
      "needs_background": "light"
     },
     "output_type": "display_data"
    }
   ],
   "source": [
    "plt.scatter(color_0x, color_0y, s = 10, color='g')\n",
    "plt.scatter(color_1x, color_1y, s = 10, color='purple')\n",
    "plt.scatter(color_2x, color_2y, s = 10, color='k')\n",
    "plt.scatter(color_3x, color_3y, s = 10, color='b')\n",
    "plt.scatter(data_whole[ : , 0], data_whole[ :, 1], s = 25, color='r')\n",
    "#Note: \n",
    "#The green region belongs to x0 cluster\n",
    "#The black region belongs to x1 cluster \n",
    "#The blue region belongs to x2 cluster\n",
    "#The purple region belong to x3 clluster"
   ]
  }
 ],
 "metadata": {
  "kernelspec": {
   "display_name": "Python 3",
   "language": "python",
   "name": "python3"
  },
  "language_info": {
   "codemirror_mode": {
    "name": "ipython",
    "version": 3
   },
   "file_extension": ".py",
   "mimetype": "text/x-python",
   "name": "python",
   "nbconvert_exporter": "python",
   "pygments_lexer": "ipython3",
   "version": "3.6.7"
  }
 },
 "nbformat": 4,
 "nbformat_minor": 2
}

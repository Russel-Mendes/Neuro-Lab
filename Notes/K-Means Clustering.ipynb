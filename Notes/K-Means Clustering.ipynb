{
 "cells": [
  {
   "cell_type": "markdown",
   "metadata": {},
   "source": [
    "# K-Means Clustering\n",
    "\n",
    "K-Means is a very common clustering algorithm. It takes the euclidean distance between points and creates k pre-set clusters by trying to reduce the cluster variance. \n",
    "\n",
    "### When To Use\n",
    "* Can be create clusters based on the distances of data points\n",
    "* Can cluster without knowing the number of clusters\n",
    "* O(N) time complexity makes the process fast\n",
    "* Can create predictions based on the location of clusters\n",
    "<br>\n",
    "\n",
    "### How Does it Work\n",
    "* The algorithm starts at k arbitrary cluster location points and determines the distance of all other points. \n",
    "* Points that are closer to the a respective cluster core will be classified as that cluster.\n",
    "* A new location is chosen and process repeats.\n",
    "* The process ends when the variance of the clusters algorithm reaches a minimum\n",
    "<br>\n",
    "\n",
    "### Params\n",
    "* k: the number of clusters that will be solved for in the data\n",
    "<br>\n",
    "\n",
    "### Results \n",
    "* The algorithm will generate clusters based on the above params\n",
    "<br>\n",
    "\n",
    "### Limitations\n",
    "* User has to select a predefined number of clusters\n",
    "* Algorithm uses a stochastic starting point\n",
    "* Can be affected by outliers and noise\n",
    "* Algorithm uses distance formula causing clusters to take a globular shape\n",
    "    * With arbitrary shaped clusters, algorithm tends to fail"
   ]
  },
  {
   "cell_type": "code",
   "execution_count": 29,
   "metadata": {},
   "outputs": [],
   "source": [
    "#Imports\n",
    "import numpy as np\n",
    "from sklearn.cluster import KMeans\n",
    "from sklearn.preprocessing import StandardScaler\n",
    "import matplotlib.pyplot as plt\n",
    "import random"
   ]
  },
  {
   "cell_type": "markdown",
   "metadata": {},
   "source": [
    "## Attempt 1: Aribtrary Shaped Clusters"
   ]
  },
  {
   "cell_type": "code",
   "execution_count": 30,
   "metadata": {},
   "outputs": [],
   "source": [
    "#Creating an Example Data Set\n",
    "\n",
    "random.seed(0)\n",
    "\n",
    "#4 distinct clusters\n",
    "\n",
    "#Cluster 1 is a region of tight points\n",
    "cluster_1 = -10 * np.random.rand(100,2) \n",
    "\n",
    "#Cluster 2 is the function f(x) = -.01x^2 + .5x + sin(x)+15 where 0 <= x <= 100\n",
    "cluster_2 = []\n",
    "for i in range(100):\n",
    "    random_y = -.01*i**2 +.5 * i + np.sin(i) + 15 \n",
    "    cluster_2.append([i, random_y])\n",
    "cluster_2 = np.array(cluster_2)\n",
    "\n",
    "#Cluster 3 is the function f(x) = -x+50 + .01*x^2 where -45<= x <= 55\n",
    "cluster_3 = []\n",
    "for i in range(100):\n",
    "    x = i - 45\n",
    "    random_y = -1*x + 50 + .02*x**2  \n",
    "    cluster_3.append([i, random_y])\n",
    "cluster_3 = np.array(cluster_3)\n",
    "\n",
    "#Cluster 4 is a circle defined by (x-60)^2 + (y+25)^2 = 100\n",
    "cluster_4 = []\n",
    "for i in range(50):\n",
    "    x = .4*i +50\n",
    "    random_y_pos = (100-(x-60)**2)**.5 -25 \n",
    "    random_y_neg = -1* (100-(x-60)**2)**.5 -25 \n",
    "    cluster_4.append([x, random_y_pos])\n",
    "    cluster_4.append([x, random_y_neg])\n",
    "cluster_4 = np.array(cluster_4)"
   ]
  },
  {
   "cell_type": "code",
   "execution_count": 31,
   "metadata": {},
   "outputs": [
    {
     "data": {
      "text/plain": [
       "<matplotlib.collections.PathCollection at 0x2b79bd217c8>"
      ]
     },
     "execution_count": 31,
     "metadata": {},
     "output_type": "execute_result"
    },
    {
     "data": {
      "image/png": "[encoded data removed]",
      "text/plain": [
       "<Figure size 432x288 with 1 Axes>"
      ]
     },
     "metadata": {
      "needs_background": "light"
     },
     "output_type": "display_data"
    }
   ],
   "source": [
    "#Pre-Noise Image\n",
    "fig, ax = plt.subplots()\n",
    "ax.set_title(\"Pre-Noise Image\")\n",
    "plt.scatter(cluster_1[ : , 0], cluster_1[ :, 1], color = 'blue')\n",
    "plt.scatter(cluster_2[ : , 0], cluster_2[ :, 1], color = 'green')\n",
    "plt.scatter(cluster_3[ : , 0], cluster_3[ :, 1], color = 'orange')\n",
    "plt.scatter(cluster_4[ : , 0], cluster_4[ :, 1], color = 'red')"
   ]
  },
  {
   "cell_type": "code",
   "execution_count": 32,
   "metadata": {},
   "outputs": [],
   "source": [
    "#Adding Noise Mask\n",
    "#Assuming a bivariate normal noise distribution with a mean of 0 and variance of 2\n",
    "x_noise = np.random.normal(0,2,100)\n",
    "y_noise = np.random.normal(0,2,100)\n",
    "noise = []\n",
    "for i in range(100):\n",
    "    noise.append([x_noise[i], y_noise[i]])\n",
    "noise = np.array(noise)\n",
    "\n",
    "noisy_cluster_1 = cluster_1 + noise\n",
    "noisy_cluster_2 = cluster_2 + noise\n",
    "noisy_cluster_3 = cluster_3 + noise\n",
    "noisy_cluster_4 = cluster_4 + noise\n"
   ]
  },
  {
   "cell_type": "code",
   "execution_count": 33,
   "metadata": {},
   "outputs": [
    {
     "data": {
      "text/plain": [
       "<matplotlib.collections.PathCollection at 0x2b79bd91308>"
      ]
     },
     "execution_count": 33,
     "metadata": {},
     "output_type": "execute_result"
    },
    {
     "data": {
      "image/png": "[encoded data removed]",
      "text/plain": [
       "<Figure size 432x288 with 1 Axes>"
      ]
     },
     "metadata": {
      "needs_background": "light"
     },
     "output_type": "display_data"
    }
   ],
   "source": [
    "#Post-Noise Image\n",
    "fig, ax = plt.subplots()\n",
    "ax.set_title(\"Noisy Image\")\n",
    "plt.scatter(noisy_cluster_1[ : , 0], noisy_cluster_1[ :, 1], color = 'blue')\n",
    "plt.scatter(noisy_cluster_2[ : , 0], noisy_cluster_2[ :, 1], color = 'green')\n",
    "plt.scatter(noisy_cluster_3[ : , 0], noisy_cluster_3[ :, 1], color = 'orange')\n",
    "plt.scatter(noisy_cluster_4[ : , 0], noisy_cluster_4[ :, 1], color = 'red')"
   ]
  },
  {
   "cell_type": "code",
   "execution_count": 34,
   "metadata": {},
   "outputs": [],
   "source": [
    "#Creating a data array\n",
    "noisy_data_array = np.zeros((400,2))\n",
    "noisy_data_array[0:100, :] = noisy_cluster_1\n",
    "noisy_data_array[100:200, :] = noisy_cluster_2\n",
    "noisy_data_array[200:300, :] = noisy_cluster_3\n",
    "noisy_data_array[300:400, :] = noisy_cluster_4"
   ]
  },
  {
   "cell_type": "code",
   "execution_count": 35,
   "metadata": {},
   "outputs": [],
   "source": [
    "#Scaling the data\n",
    "scaler = StandardScaler()\n",
    "data_scaled = scaler.fit_transform(noisy_data_array)"
   ]
  },
  {
   "cell_type": "code",
   "execution_count": 38,
   "metadata": {},
   "outputs": [
    {
     "data": {
      "text/plain": [
       "KMeans(algorithm='auto', copy_x=True, init='k-means++', max_iter=300,\n",
       "       n_clusters=4, n_init=10, n_jobs=None, precompute_distances='auto',\n",
       "       random_state=None, tol=0.0001, verbose=0)"
      ]
     },
     "execution_count": 38,
     "metadata": {},
     "output_type": "execute_result"
    }
   ],
   "source": [
    "# Param Example\n",
    "k_clusters = 4\n",
    "Kmean = KMeans(n_clusters=k_clusters)\n",
    "Kmean.fit(data_scaled)\n"
   ]
  },
  {
   "cell_type": "code",
   "execution_count": 39,
   "metadata": {},
   "outputs": [
    {
     "data": {
      "text/plain": [
       "<matplotlib.legend.Legend at 0x2b79c246c08>"
      ]
     },
     "execution_count": 39,
     "metadata": {},
     "output_type": "execute_result"
    },
    {
     "data": {
      "image/png": "[encoded data removed]",
      "text/plain": [
       "<Figure size 432x288 with 1 Axes>"
      ]
     },
     "metadata": {
      "needs_background": "light"
     },
     "output_type": "display_data"
    }
   ],
   "source": [
    "colored_cluster_array = []\n",
    "for point in noisy_data_array:\n",
    "    ans = Kmean.predict(point.reshape(1,-1))\n",
    "    colored_cluster_array.append([point, ans.tolist()])\n",
    "        \n",
    "color_suite = []\n",
    "for e in range(k_clusters):\n",
    "    color_e = [i[0].tolist() for i in colored_cluster_array if i[1][0] == e ]\n",
    "    color_ex = [i[0] for i in color_e]\n",
    "    color_ey = [i[1] for i in color_e]\n",
    "    color_suite.append([color_ex, color_ey])\n",
    "        \n",
    "fig, ax = plt.subplots()\n",
    "title = \"Identified Clusters\"\n",
    "ax.set_title(title)\n",
    "color_list = ['blue', 'green', 'red', 'cyan', 'magenta', 'yellow', 'black', 'white']\n",
    "legend_list = []\n",
    "cluster_list = []\n",
    "i = 0\n",
    "for point_array in color_suite:\n",
    "    leg = ax.scatter(point_array[0], point_array[1], s = 10, color=color_list[i])\n",
    "    legend_list.append(leg)\n",
    "    cluster_list.append('Cluster: ' + str(i))\n",
    "    i+=1\n",
    "# Shrink current axis by 20%\n",
    "box = ax.get_position()\n",
    "ax.set_position([box.x0, box.y0, box.width * 0.8, box.height])\n",
    "\n",
    "# Put a legend to the right of the current axis\n",
    "ax.legend(legend_list, cluster_list, loc='center left', bbox_to_anchor=(1, 0.5))"
   ]
  },
  {
   "cell_type": "markdown",
   "metadata": {},
   "source": [
    "## Attempt 2: Globular Based Clusters"
   ]
  },
  {
   "cell_type": "code",
   "execution_count": 80,
   "metadata": {},
   "outputs": [],
   "source": [
    "#Creating the Data Set\n",
    "\n",
    "#4 distinct clusters\n",
    "cluster_1 = -2 * np.random.rand(100,2)\n",
    "cluster_2 =  2 * np.random.rand(100,2)\n",
    "cluster_3 = -1 * np.random.rand(100,2)\n",
    "cluster_4 =1 + 3 * np.random.rand(100,2)\n",
    "\n",
    "#offsetting\n",
    "cluster_1 = np.array([[i[0]-5, i[1]-5] for i in cluster_1])\n",
    "cluster_2 = np.array([[i[0]+5, i[1]-5] for i in cluster_2])\n",
    "cluster_3 = np.array([[i[0]-5, i[1]+5] for i in cluster_3])\n",
    "cluster_4 = np.array([[i[0]+3, i[1]+5] for i in cluster_4])"
   ]
  },
  {
   "cell_type": "code",
   "execution_count": 81,
   "metadata": {},
   "outputs": [
    {
     "data": {
      "text/plain": [
       "<matplotlib.collections.PathCollection at 0x2b79d9e6948>"
      ]
     },
     "execution_count": 81,
     "metadata": {},
     "output_type": "execute_result"
    },
    {
     "data": {
      "image/png": "[encoded data removed]",
      "text/plain": [
       "<Figure size 432x288 with 1 Axes>"
      ]
     },
     "metadata": {
      "needs_background": "light"
     },
     "output_type": "display_data"
    }
   ],
   "source": [
    "#Pre-Noise Image\n",
    "fig, ax = plt.subplots()\n",
    "ax.set_title(\"Pre-Noise Image\")\n",
    "plt.scatter(cluster_1[ : , 0], cluster_1[ :, 1], color = 'blue')\n",
    "plt.scatter(cluster_2[ : , 0], cluster_2[ :, 1], color = 'green')\n",
    "plt.scatter(cluster_3[ : , 0], cluster_3[ :, 1], color = 'orange')\n",
    "plt.scatter(cluster_4[ : , 0], cluster_4[ :, 1], color = 'red')"
   ]
  },
  {
   "cell_type": "code",
   "execution_count": 82,
   "metadata": {},
   "outputs": [],
   "source": [
    "#Adding Noise Mask\n",
    "#Assuming a bivariate normal noise distribution with a mean of 0 and variance of 1\n",
    "x_noise = np.random.normal(0,1,100)\n",
    "y_noise = np.random.normal(0,1,100)\n",
    "noise = []\n",
    "for i in range(100):\n",
    "    noise.append([x_noise[i], y_noise[i]])\n",
    "noise = np.array(noise)\n",
    "\n",
    "noisy_cluster_1 = cluster_1 + noise\n",
    "noisy_cluster_2 = cluster_2 + noise\n",
    "noisy_cluster_3 = cluster_3 + noise\n",
    "noisy_cluster_4 = cluster_4 + noise\n"
   ]
  },
  {
   "cell_type": "code",
   "execution_count": 83,
   "metadata": {},
   "outputs": [
    {
     "data": {
      "text/plain": [
       "<matplotlib.collections.PathCollection at 0x2b79da55848>"
      ]
     },
     "execution_count": 83,
     "metadata": {},
     "output_type": "execute_result"
    },
    {
     "data": {
      "image/png": "[encoded data removed]",
      "text/plain": [
       "<Figure size 432x288 with 1 Axes>"
      ]
     },
     "metadata": {
      "needs_background": "light"
     },
     "output_type": "display_data"
    }
   ],
   "source": [
    "#Post-Noise Image\n",
    "fig, ax = plt.subplots()\n",
    "ax.set_title(\"Noisy Image\")\n",
    "plt.scatter(noisy_cluster_1[ : , 0], noisy_cluster_1[ :, 1], color = 'blue')\n",
    "plt.scatter(noisy_cluster_2[ : , 0], noisy_cluster_2[ :, 1], color = 'green')\n",
    "plt.scatter(noisy_cluster_3[ : , 0], noisy_cluster_3[ :, 1], color = 'orange')\n",
    "plt.scatter(noisy_cluster_4[ : , 0], noisy_cluster_4[ :, 1], color = 'red')"
   ]
  },
  {
   "cell_type": "code",
   "execution_count": 84,
   "metadata": {},
   "outputs": [],
   "source": [
    "#Creating a data array\n",
    "noisy_data_array = np.zeros((400,2))\n",
    "noisy_data_array[0:100, :] = noisy_cluster_1\n",
    "noisy_data_array[100:200, :] = noisy_cluster_2\n",
    "noisy_data_array[200:300, :] = noisy_cluster_3\n",
    "noisy_data_array[300:400, :] = noisy_cluster_4"
   ]
  },
  {
   "cell_type": "code",
   "execution_count": 85,
   "metadata": {},
   "outputs": [],
   "source": [
    "#Scaling the data\n",
    "scaler = StandardScaler()\n",
    "data_scaled = scaler.fit_transform(noisy_data_array)"
   ]
  },
  {
   "cell_type": "code",
   "execution_count": 86,
   "metadata": {},
   "outputs": [
    {
     "data": {
      "text/plain": [
       "KMeans(algorithm='auto', copy_x=True, init='k-means++', max_iter=300,\n",
       "       n_clusters=4, n_init=10, n_jobs=None, precompute_distances='auto',\n",
       "       random_state=None, tol=0.0001, verbose=0)"
      ]
     },
     "execution_count": 86,
     "metadata": {},
     "output_type": "execute_result"
    }
   ],
   "source": [
    "# Param Example\n",
    "k_clusters = 4\n",
    "Kmean = KMeans(n_clusters=k_clusters)\n",
    "Kmean.fit(data_scaled)\n"
   ]
  },
  {
   "cell_type": "code",
   "execution_count": 87,
   "metadata": {},
   "outputs": [
    {
     "data": {
      "text/plain": [
       "<matplotlib.legend.Legend at 0x2b79d9499c8>"
      ]
     },
     "execution_count": 87,
     "metadata": {},
     "output_type": "execute_result"
    },
    {
     "data": {
      "image/png": "[encoded data removed]",
      "text/plain": [
       "<Figure size 432x288 with 1 Axes>"
      ]
     },
     "metadata": {
      "needs_background": "light"
     },
     "output_type": "display_data"
    }
   ],
   "source": [
    "colored_cluster_array = []\n",
    "for point in noisy_data_array:\n",
    "    ans = Kmean.predict(point.reshape(1,-1))\n",
    "    colored_cluster_array.append([point, ans.tolist()])\n",
    "        \n",
    "color_suite = []\n",
    "for e in range(k_clusters):\n",
    "    color_e = [i[0].tolist() for i in colored_cluster_array if i[1][0] == e ]\n",
    "    color_ex = [i[0] for i in color_e]\n",
    "    color_ey = [i[1] for i in color_e]\n",
    "    color_suite.append([color_ex, color_ey])\n",
    "        \n",
    "fig, ax = plt.subplots()\n",
    "title = \"Identified Clusters\"\n",
    "ax.set_title(title)\n",
    "color_list = ['blue', 'green', 'red', 'cyan', 'magenta', 'yellow', 'black', 'white']\n",
    "legend_list = []\n",
    "cluster_list = []\n",
    "i = 0\n",
    "for point_array in color_suite:\n",
    "    leg = ax.scatter(point_array[0], point_array[1], s = 10, color=color_list[i])\n",
    "    legend_list.append(leg)\n",
    "    cluster_list.append('Cluster: ' + str(i))\n",
    "    i+=1\n",
    "# Shrink current axis by 20%\n",
    "box = ax.get_position()\n",
    "ax.set_position([box.x0, box.y0, box.width * 0.8, box.height])\n",
    "\n",
    "# Put a legend to the right of the current axis\n",
    "ax.legend(legend_list, cluster_list, loc='center left', bbox_to_anchor=(1, 0.5))"
   ]
  }
 ],
 "metadata": {
  "kernelspec": {
   "display_name": "Python 3",
   "language": "python",
   "name": "python3"
  },
  "language_info": {
   "codemirror_mode": {
    "name": "ipython",
    "version": 3
   },
   "file_extension": ".py",
   "mimetype": "text/x-python",
   "name": "python",
   "nbconvert_exporter": "python",
   "pygments_lexer": "ipython3",
   "version": "3.7.4"
  }
 },
 "nbformat": 4,
 "nbformat_minor": 2
}

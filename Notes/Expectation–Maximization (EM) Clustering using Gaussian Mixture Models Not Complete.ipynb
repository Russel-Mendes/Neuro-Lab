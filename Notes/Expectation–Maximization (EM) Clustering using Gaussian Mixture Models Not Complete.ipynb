{
 "cells": [
  {
   "cell_type": "markdown",
   "metadata": {},
   "source": [
    "## EM Clustering Using GMM\n",
    "\n",
    "K-Means clustering optimizes on the means and variation of the clusters. This may ignore larger trends that supercede simple local mean and variation. For this method, the model uses a Gaussian Model to denote the cluster points on a range. The parameters it measures are mean and deviation, but it more forgiving on complex structures such as circles. To achieve this goal, Expectation Maximization occurs to get baseline metrics to use the GMMs to optimize. \n",
    "Sources for this notebook can be found [here](https://jakevdp.github.io/PythonDataScienceHandbook/05.12-gaussian-mixtures.html)"
   ]
  },
  {
   "cell_type": "code",
   "execution_count": 11,
   "metadata": {},
   "outputs": [],
   "source": [
    "#Imports\n",
    "import matplotlib.pyplot as plt\n",
    "from sklearn import cluster, datasets, mixture\n",
    "import numpy as np\n",
    "from scipy.stats import multivariate_normal\n",
    "from sklearn.datasets import make_spd_matrix\n",
    "plt.rcParams[\"axes.grid\"] = False"
   ]
  },
  {
   "cell_type": "code",
   "execution_count": 92,
   "metadata": {},
   "outputs": [],
   "source": [
    "#Creating Data Set\n",
    "#This time we are treating them as parametric functions\n",
    "#4 distinct clusters\n",
    "t0 =  np.random.rand(100,1)\n",
    "t1 =  5 + -3 * np.random.rand(100,1)\n",
    "t2 =  -2 * np.random.rand(100,1)\n",
    "t3 = -6+ 3 * np.random.rand(100,1)\n",
    "\n",
    "#offsetting\n",
    "t0 = np.array([[i[0]-1, (i[0]*2)**4] for i in t0])\n",
    "t1 = np.array([[i[0] **.5+.2*i[0] , -1* i[0]**2 + 5*i[0]] for i in t1])\n",
    "t2 = np.array([[i[0] - 5, i[0]+5] for i in t2])\n",
    "t3 = np.array([[i[0], -4*i[0]] for i in t3])"
   ]
  },
  {
   "cell_type": "code",
   "execution_count": 93,
   "metadata": {},
   "outputs": [],
   "source": [
    "data_whole = np.zeros((400,2))\n",
    "data_whole[0:100, :] = t0\n",
    "data_whole[100:200, :] = t1\n",
    "data_whole[200:300, :] = t2\n",
    "data_whole[300:400, :] = t3"
   ]
  },
  {
   "cell_type": "code",
   "execution_count": 94,
   "metadata": {},
   "outputs": [
    {
     "data": {
      "image/png": "[encoded data removed]",
      "text/plain": [
       "<matplotlib.figure.Figure at 0x2556afefc18>"
      ]
     },
     "metadata": {
      "needs_background": "light"
     },
     "output_type": "display_data"
    }
   ],
   "source": [
    "plt.scatter(data_whole[ : , 0], data_whole[ :, 1], s = 25, color='r')\n",
    "plt.grid()\n",
    "#Note\n",
    "#Far Left Cluster is t2\n",
    "#Short postive parabolic cluster is t0\n",
    "#The Long Downward sloping line is t3\n",
    "#The negative parabolic cluster is t1\n"
   ]
  },
  {
   "cell_type": "code",
   "execution_count": 95,
   "metadata": {},
   "outputs": [
    {
     "data": {
      "text/plain": [
       "GaussianMixture(covariance_type='spherical', init_params='kmeans',\n",
       "        max_iter=100, means_init=None, n_components=4, n_init=1,\n",
       "        precisions_init=None, random_state=None, reg_covar=1e-06,\n",
       "        tol=0.001, verbose=0, verbose_interval=10, warm_start=False,\n",
       "        weights_init=None)"
      ]
     },
     "execution_count": 95,
     "metadata": {},
     "output_type": "execute_result"
    }
   ],
   "source": [
    "from sklearn.mixture import GaussianMixture\n",
    "gmm = GaussianMixture(n_components=4, covariance_type='spherical')\n",
    "gmm.fit(data_whole)\n"
   ]
  },
  {
   "cell_type": "code",
   "execution_count": 96,
   "metadata": {},
   "outputs": [
    {
     "data": {
      "image/png": "[encoded data removed]",
      "text/plain": [
       "<matplotlib.figure.Figure at 0x2556c7e5be0>"
      ]
     },
     "metadata": {
      "needs_background": "light"
     },
     "output_type": "display_data"
    }
   ],
   "source": [
    "import pandas as pd\n",
    "#predictions from gmm\n",
    "labels = gmm.predict(data_whole)\n",
    "frame = pd.DataFrame(data_whole)\n",
    "frame['cluster'] = labels\n",
    "frame.columns = ['Weight', 'Height', 'cluster']\n",
    "\n",
    "color=['blue','green','cyan', 'black']\n",
    "for k in range(0,4):\n",
    "    data = frame[frame[\"cluster\"]==k]\n",
    "    plt.scatter(data[\"Weight\"],data[\"Height\"],c=color[k])\n",
    "plt.show()"
   ]
  },
  {
   "cell_type": "code",
   "execution_count": 75,
   "metadata": {},
   "outputs": [
    {
     "name": "stdout",
     "output_type": "stream",
     "text": [
      "[[ 7.00801104  1.31515486]\n",
      " [ 8.50578243  1.71691934]\n",
      " [ 2.48583278  7.83666244]\n",
      " [11.83973774  2.97202632]]\n",
      "[0.25 0.25 0.25 0.25]\n"
     ]
    }
   ],
   "source": [
    "#Define the desired cluster to be searched\n",
    "k = 4\n",
    "\n",
    "# create and initialize the cluster centers and the weight paramters\n",
    "weights = np.ones((k)) / k\n",
    "means = np.random.choice(X.flatten(), (k,X.shape[1]))\n",
    "print(means)\n",
    "print(weights)"
   ]
  },
  {
   "cell_type": "code",
   "execution_count": null,
   "metadata": {},
   "outputs": [],
   "source": []
  }
 ],
 "metadata": {
  "kernelspec": {
   "display_name": "Python 3",
   "language": "python",
   "name": "python3"
  },
  "language_info": {
   "codemirror_mode": {
    "name": "ipython",
    "version": 3
   },
   "file_extension": ".py",
   "mimetype": "text/x-python",
   "name": "python",
   "nbconvert_exporter": "python",
   "pygments_lexer": "ipython3",
   "version": "3.6.7"
  }
 },
 "nbformat": 4,
 "nbformat_minor": 2
}
